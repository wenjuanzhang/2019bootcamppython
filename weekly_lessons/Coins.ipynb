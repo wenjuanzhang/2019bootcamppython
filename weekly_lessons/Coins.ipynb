{
 "cells": [
  {
   "cell_type": "code",
   "execution_count": null,
   "metadata": {},
   "outputs": [],
   "source": [
    "## DISCUSS OF COIN TOSSING EXPERIMENT\n",
    "## First, we copy in the coin-tossing\n",
    "## code from the lesson, improve it, and test it"
   ]
  },
  {
   "cell_type": "code",
   "execution_count": 1,
   "metadata": {},
   "outputs": [],
   "source": [
    "import random as r\n",
    "def coin():\n",
    "    u = r.random()\n",
    "    if u < 0.5:\n",
    "         return \"H\"\n",
    "    else:\n",
    "        return \"T\"\n",
    "    \n",
    "def biased_coin(p):\n",
    "    u = r.random()\n",
    "    if u < p:\n",
    "         return \"H\"\n",
    "    else:\n",
    "        return \"T\"\n",
    "    \n",
    "def run(n):\n",
    "    output = \"\"\n",
    "    for k in range(0,n):\n",
    "        output = output + coin()\n",
    "    return output\n",
    "\n",
    "def biased_run(n, p):\n",
    "    output = \"\"\n",
    "    for k in range(0,n):\n",
    "        output = output + biased_coin(p)\n",
    "    return output\n",
    "\n",
    "def count_heads(str):\n",
    "    heads = 0\n",
    "    for letter in list(str):\n",
    "        if letter == 'H':\n",
    "            heads += 1\n",
    "    return heads\n",
    "\n",
    "def run_experiment(experiment,trials):\n",
    "    results = []\n",
    "    for i in range(0, trials):\n",
    "        results = results + [experiment()]\n",
    "    return results\n",
    "\n",
    "def experiment():\n",
    "    return count_heads(run(100))\n",
    "\n",
    "def biased_experiment(p):\n",
    "    return count_heads(biased_run(100, p))"
   ]
  },
  {
   "cell_type": "code",
   "execution_count": 2,
   "metadata": {},
   "outputs": [
    {
     "data": {
      "text/plain": [
       "(50, 40, 52)"
      ]
     },
     "execution_count": 2,
     "metadata": {},
     "output_type": "execute_result"
    }
   ],
   "source": [
    "experiment(), experiment(),experiment()"
   ]
  },
  {
   "cell_type": "code",
   "execution_count": 15,
   "metadata": {},
   "outputs": [],
   "source": [
    "data = run_experiment(experiment, 10)"
   ]
  },
  {
   "cell_type": "code",
   "execution_count": 16,
   "metadata": {},
   "outputs": [
    {
     "data": {
      "text/plain": [
       "[51, 61, 55, 40, 52, 53, 46, 52, 49, 47]"
      ]
     },
     "execution_count": 16,
     "metadata": {},
     "output_type": "execute_result"
    }
   ],
   "source": [
    "data"
   ]
  },
  {
   "cell_type": "code",
   "execution_count": 5,
   "metadata": {},
   "outputs": [],
   "source": [
    "## Next, we copy and test the statistics code"
   ]
  },
  {
   "cell_type": "code",
   "execution_count": 6,
   "metadata": {},
   "outputs": [],
   "source": [
    "import math\n",
    "\n",
    "def mean(x):\n",
    "    return (sum(x)/len(x))\n",
    "\n",
    "def delta(data, center):\n",
    "    return list(map(lambda x: x - center, data))\n",
    "\n",
    "def deviation(data):\n",
    "    return delta(data, mean(data))\n",
    "\n",
    "def variance(data):\n",
    "    squares = map(lambda x: x*x, deviation(data))\n",
    "    return sum(squares)/len(data)\n",
    "\n",
    "def stdev(data):\n",
    "    return math.sqrt(variance(data))\n",
    "\n",
    "def statistics(data):\n",
    "    print(\"mean\", mean(data))\n",
    "    print(\"variance\", variance(data))\n",
    "    print(\"stdev\", stdev(data))"
   ]
  },
  {
   "cell_type": "code",
   "execution_count": 7,
   "metadata": {},
   "outputs": [
    {
     "name": "stdout",
     "output_type": "stream",
     "text": [
      "[52, 44, 51, 45, 54, 49, 48, 49, 51, 44]\n",
      "mean 48.7\n",
      "variance 10.810000000000002\n",
      "stdev 3.28785644455472\n"
     ]
    }
   ],
   "source": [
    "# We apply the statisitics function to the dat we have generated \n",
    "print(data)\n",
    "statistics(data)"
   ]
  },
  {
   "cell_type": "code",
   "execution_count": 8,
   "metadata": {},
   "outputs": [
    {
     "data": {
      "text/plain": [
       "(50.0, 25.0, 5.0)"
      ]
     },
     "execution_count": 8,
     "metadata": {},
     "output_type": "execute_result"
    }
   ],
   "source": [
    "# Theoretical results for the biniomial distribution\n",
    "# Mean = np, variance = np(1-p),\n",
    "p = 0.5\n",
    "n = 100\n",
    "n*p, n*p*(1-p), math.sqrt(n*p*(1-p))"
   ]
  },
  {
   "cell_type": "code",
   "execution_count": 17,
   "metadata": {},
   "outputs": [
    {
     "data": {
      "text/plain": [
       "(2, [61, 40])"
      ]
     },
     "execution_count": 17,
     "metadata": {},
     "output_type": "execute_result"
    }
   ],
   "source": [
    "# Confidence intervals:\n",
    "\n",
    "# 1 STDEV: [45, 55]\n",
    "# 2 STDEV: [40, 60]\n",
    "\n",
    "def outliers(data, mean, stdev):\n",
    "    output = []\n",
    "    low = mean - stdev\n",
    "    high = mean + stdev\n",
    "    for item in data:\n",
    "        if item < low or item > high:\n",
    "            output = output + [item]\n",
    "    return (len(output), output)\n",
    "\n",
    "outliers(data, 50, 5)"
   ]
  },
  {
   "cell_type": "code",
   "execution_count": 18,
   "metadata": {},
   "outputs": [
    {
     "data": {
      "text/plain": [
       "(1, [61])"
      ]
     },
     "execution_count": 18,
     "metadata": {},
     "output_type": "execute_result"
    }
   ],
   "source": [
    "outliers(data, 50, 10)"
   ]
  },
  {
   "cell_type": "code",
   "execution_count": null,
   "metadata": {},
   "outputs": [],
   "source": []
  }
 ],
 "metadata": {
  "kernelspec": {
   "display_name": "Python 3",
   "language": "python",
   "name": "python3"
  },
  "language_info": {
   "codemirror_mode": {
    "name": "ipython",
    "version": 3
   },
   "file_extension": ".py",
   "mimetype": "text/x-python",
   "name": "python",
   "nbconvert_exporter": "python",
   "pygments_lexer": "ipython3",
   "version": "3.7.3"
  }
 },
 "nbformat": 4,
 "nbformat_minor": 2
}
